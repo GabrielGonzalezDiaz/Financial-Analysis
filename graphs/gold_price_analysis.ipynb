{
 "cells": [
  {
   "cell_type": "code",
   "execution_count": null,
   "metadata": {},
   "outputs": [],
   "source": [
    "import yfinance as yf\n",
    "import matplotlib.pyplot as plt\n",
    "import pandas as pd\n",
    "\n",
    "\n",
    "house_prices = pd.read_csv('datasets/median_house_prices_us.csv')\n",
    "house_incomes = pd.read_csv('datasets/median_house_income_us.csv')\n",
    "\n",
    "\n",
    "gold_data = yf.download('GC=F', start='2000-01-01', end='2025-01-01', interval='1mo')\n",
    "gold_prices = gold_data['Close'].dropna()\n",
    "quarterly_gold = gold_prices.resample('QS').first()\n",
    "\n",
    "print(house_prices.head())\n",
    "print(house_incomes.head())\n",
    "\n",
    "# Ensure datetime format\n",
    "house_prices['observation_date'] = pd.to_datetime(house_prices['observation_date'])\n",
    "\n",
    "house_incomes['observation_date'] = pd.to_datetime(house_incomes['observation_date'])\n",
    "\n",
    "# Set index for merging\n",
    "quarterly_gold = quarterly_gold.rename_axis('Date').reset_index()\n",
    "quarterly_gold['Date'] = pd.to_datetime(quarterly_gold['Date'])\n",
    "\n"
   ]
  },
  {
   "cell_type": "code",
   "execution_count": null,
   "metadata": {},
   "outputs": [],
   "source": [
    "\n",
    "\n",
    "# Merge on the common date\n",
    "gold_and_house_pricesmerged = pd.merge(house_prices, quarterly_gold, left_on='observation_date', right_on='Date')\n",
    "\n",
    "merged = pd.merge(gold_and_house_pricesmerged, house_incomes, left_on='observation_date', right_on='observation_date')\n",
    "\n",
    "# Calculate ratio\n",
    "merged['house_to_gold_ratio'] = merged['MSPUS'] / merged['GC=F']\n",
    "merged['house_to_income_ratio'] = merged['MSPUS'] / merged['MEHOINUSA672N']\n",
    "\n",
    "print(merged.head())\n",
    "print(merged.tail())\n",
    "\n",
    "# Plot\n",
    "if 1:\n",
    "    plt.figure(figsize=(10, 6))\n",
    "    plt.plot(merged['observation_date'], merged['house_to_gold_ratio'], marker='o')\n",
    "    plt.plot(merged['observation_date'], merged['house_to_income_ratio'], marker='o')\n",
    "    plt.title('U.S. Median House Price to Gold Price Ratio (Quarterly)')\n",
    "    plt.xlabel('Date')\n",
    "    plt.ylabel('Median House Price / Gold (Oz)')\n",
    "    plt.grid(True)\n",
    "    plt.tight_layout()\n",
    "    plt.show()"
   ]
  }
 ],
 "metadata": {
  "kernelspec": {
   "display_name": ".venv",
   "language": "python",
   "name": "python3"
  },
  "language_info": {
   "codemirror_mode": {
    "name": "ipython",
    "version": 3
   },
   "file_extension": ".py",
   "mimetype": "text/x-python",
   "name": "python",
   "nbconvert_exporter": "python",
   "pygments_lexer": "ipython3",
   "version": "3.10.0"
  }
 },
 "nbformat": 4,
 "nbformat_minor": 2
}
